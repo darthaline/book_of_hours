{
 "cells": [
  {
   "cell_type": "markdown",
   "metadata": {},
   "source": [
    "# Data Processing"
   ]
  },
  {
   "cell_type": "code",
   "execution_count": 1,
   "metadata": {},
   "outputs": [],
   "source": [
    "import pandas as pd\n",
    "import numpy as np\n",
    "import os"
   ]
  },
  {
   "cell_type": "code",
   "execution_count": null,
   "metadata": {},
   "outputs": [],
   "source": [
    "cwd = os.getcwd()\n",
    "cwd"
   ]
  },
  {
   "cell_type": "code",
   "execution_count": 3,
   "metadata": {},
   "outputs": [],
   "source": [
    "aspects = [\"Heart\", \"Grail\", \"Forge\", \"Lantern\", \"Scale\", \"Edge\", \"Nectar\", \"Winter\", \"Sky\", \"Moth\", \"Knock\", \"Rose\", \"Moon\"]\n",
    "wisdoms = [\"Illumination\", \"Hushery\", \"Nyctodromy\", \"Skolekosophy\", \"The Bosk\", \"Preservation\", \"Birdsong\", \"Horomachistry\", \"Ithastry\"]\n",
    "\n",
    "stations = pd.read_csv(\"../data/stations.csv\")\n",
    "skills = pd.read_csv(\"../data/skills.csv\")\n",
    "soul_pieces = pd.read_csv(\"../data/soul_pieces.csv\")\n",
    "memories = pd.read_csv(\"../data/memories.csv\")\n",
    "\n",
    "soul_pieces[\"Aspects\"] = \"\"\n",
    "\n",
    "for aspect in aspects:\n",
    "    stations[aspect] = 0\n",
    "    soul_pieces[aspect] = 0\n",
    "    memories[aspect] = 0\n",
    "\n",
    "for wisdom in wisdoms:\n",
    "    skills[wisdom] = \"\"\n",
    "\n",
    "skills[skills.isna()] = 0"
   ]
  },
  {
   "cell_type": "markdown",
   "metadata": {},
   "source": [
    "## Stations"
   ]
  },
  {
   "cell_type": "code",
   "execution_count": 4,
   "metadata": {},
   "outputs": [],
   "source": [
    "for row_index, row_data in stations.iterrows():\n",
    "    for aspect in aspects:\n",
    "\n",
    "        if aspect in row_data[\"Allowed Principles\"]:\n",
    "            stations.loc[row_index, aspect] = 1"
   ]
  },
  {
   "cell_type": "markdown",
   "metadata": {},
   "source": [
    "# Soul Pieces"
   ]
  },
  {
   "cell_type": "code",
   "execution_count": null,
   "metadata": {},
   "outputs": [],
   "source": [
    "for row_index, row_data in soul_pieces.iterrows():\n",
    "    for aspect in aspects:\n",
    "        soul_aspects_list = []\n",
    "        soul_aspects = row_data[\"Principles\"].split(\", \")\n",
    "        for soul_aspect in soul_aspects:\n",
    "            name, value = soul_aspect.split(\" \")\n",
    "            soul_pieces.loc[row_index, name] = int(value)\n",
    "            soul_aspects_list.append(name)\n",
    "        soul_pieces.loc[row_index, \"Aspects\"] = \", \".join(soul_aspects_list)\n",
    "\n",
    "\n",
    "soul_pieces_list = list(soul_pieces[\"Element\"].values)\n",
    "soul_pieces_list"
   ]
  },
  {
   "cell_type": "markdown",
   "metadata": {},
   "source": [
    "## Memories"
   ]
  },
  {
   "cell_type": "code",
   "execution_count": 6,
   "metadata": {},
   "outputs": [],
   "source": [
    "for row_index, row_data in memories.iterrows():\n",
    "    for aspect in aspects:\n",
    "        soul_aspects = row_data[\"Aspect\"].split(\", \")\n",
    "        for soul_aspect in soul_aspects:\n",
    "            value, name = soul_aspect.split(\" \")\n",
    "            memories.loc[row_index, name] = int(value)"
   ]
  },
  {
   "cell_type": "markdown",
   "metadata": {},
   "source": [
    "## Skills"
   ]
  },
  {
   "cell_type": "code",
   "execution_count": 7,
   "metadata": {},
   "outputs": [],
   "source": [
    "for row_index, row_data in skills.iterrows():\n",
    "    for col in [\"Tree of Wisdoms Lore 1\", \"Tree of Wisdoms Lore 2\"]:\n",
    "        wisdom = row_data[col].split(\") \")[0]\n",
    "        wisdom, soul_piece = wisdom.split(\", \")\n",
    "        wisdom = wisdom[1:]\n",
    "\n",
    "        skill_aspects = row_data[aspects]\n",
    "        skill_aspects = list(skill_aspects[skill_aspects>0].index)\n",
    "\n",
    "        soul_aspects = soul_pieces[soul_pieces[\"Element\"] == soul_piece][\"Aspects\"].values[0].split(\", \")\n",
    "\n",
    "        station_list = []\n",
    "        wisdom_stations = stations[stations[\"Wisdom\"] == wisdom]\n",
    "        for station_index, station_data in wisdom_stations.iterrows():\n",
    "            if sum(station_data[skill_aspects].values) > 0 and sum(station_data[soul_aspects].values)>0:\n",
    "                station_list.append(station_data[\"Workstation\"])\n",
    "        # print(station_list)\n",
    "\n",
    "        wisdom_memories = memories[memories[\"Evolve via\"] == wisdom][\"Memory\"].values\n",
    "        # print(wisdom_memories)\n",
    "\n",
    "        skills.loc[row_index, wisdom] = soul_piece + \", Altars: \" + str(station_list) + \", Memories: \" + str(wisdom_memories)\n",
    "\n"
   ]
  },
  {
   "cell_type": "code",
   "execution_count": 9,
   "metadata": {},
   "outputs": [],
   "source": [
    "skills.to_csv(\"../data/skills_calculated.csv\")"
   ]
  }
 ],
 "metadata": {
  "kernelspec": {
   "display_name": "venvkernel",
   "language": "python",
   "name": "venvkernel"
  },
  "language_info": {
   "codemirror_mode": {
    "name": "ipython",
    "version": 3
   },
   "file_extension": ".py",
   "mimetype": "text/x-python",
   "name": "python",
   "nbconvert_exporter": "python",
   "pygments_lexer": "ipython3",
   "version": "3.13.0"
  }
 },
 "nbformat": 4,
 "nbformat_minor": 2
}
